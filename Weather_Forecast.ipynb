{
  "nbformat": 4,
  "nbformat_minor": 0,
  "metadata": {
    "colab": {
      "name": "Weather Forecast.ipynb",
      "provenance": [],
      "authorship_tag": "ABX9TyNr8U/NWblcgTKGX/mQWfeQ"
    },
    "kernelspec": {
      "name": "python3",
      "display_name": "Python 3"
    },
    "language_info": {
      "name": "python"
    }
  },
  "cells": [
    {
      "cell_type": "code",
      "metadata": {
        "id": "82C_6-UudAGt"
      },
      "source": [
        "#importing necessary packages\n",
        "import requests\n",
        "import os\n",
        "import time\n",
        "\n",
        "from bs4 import BeautifulSoup\n",
        "from datetime import date\n",
        "from datetime import datetime"
      ],
      "execution_count": null,
      "outputs": []
    },
    {
      "cell_type": "code",
      "metadata": {
        "colab": {
          "base_uri": "https://localhost:8080/"
        },
        "id": "92cYOscadu3V",
        "outputId": "efe48382-98c2-4b57-aaa2-c770d1331672"
      },
      "source": [
        "def todays_weather():\n",
        "  #scraping the weather page\n",
        "  page = 'https://weather.com/weather/today/l/3642fe8520406b7b57aa04bc121b5bbecb32537a62a9d0d6ac727cc8d27e977c'\n",
        "  req = requests.get(page)\n",
        "  soup = BeautifulSoup(req.content, 'html.parser')\n",
        "\n",
        "  #getting todays date\n",
        "  today = date.today()\n",
        "  # format:dd/mm/YY\n",
        "  date_today = today.strftime('%d/%m/%Y')\n",
        "\n",
        "  #displaying the weather\n",
        "  pred_phrase = ''\n",
        "\n",
        "  current_temp = soup.find(class_='CurrentConditions--tempValue--MHmYY').text\n",
        "  phrase = soup.find(class_='CurrentConditions--phraseValue--mZC_p').text\n",
        "  temp_hi_lo = soup.find(class_='CurrentConditions--tempHiLoValue--3T1DG').text\n",
        "  \n",
        "\n",
        "  if (soup.find(class_='CurrentConditions--precipValue--RBVJT')):\n",
        "    pred_phrase = soup.find(class_=\"CurrentConditions--precipValue--RBVJT\").text\n",
        "  \n",
        "\n",
        "  #displaying icons\n",
        "  if (phrase == 'Cloudy' or phrase == 'Mostly Cloudy'):\n",
        "    emoji = '☁️'\n",
        "  elif (phrase == 'Rain' or phrase == 'Light Rain'):\n",
        "    emoji = '🌧️'\n",
        "  elif (phrase == 'Partly Cloudy'):\n",
        "    emoji = '⛅'\n",
        "  else:\n",
        "    emoji = '☀️'\n",
        "\n",
        "  #checking for special weather announcement\n",
        "  weather_alert = ''\n",
        "  if (soup.find(class_='AlertHeadline--alertText--38xov')):\n",
        "    weather_alert = soup.find(class_='AlertHeadline--alertText--38xov').text\n",
        "\n",
        "  #displaying weather information\n",
        "  print(date_today)\n",
        "  print(current_temp)\n",
        "  print(phrase + emoji)\n",
        "  print(\"Highest and lowest tempurate of the day: \"+temp_hi_lo)\n",
        "\n",
        "  if pred_phrase != '':\n",
        "    print(pred_phrase)\n",
        "  if weather_alert != '':\n",
        "    print('Weather Alert: !! '+weather_alert+' !!')\n",
        "\n",
        "  time.sleep(1)\n",
        "\n",
        "todays_weather()"
      ],
      "execution_count": null,
      "outputs": [
        {
          "output_type": "stream",
          "text": [
            "14/06/2021\n",
            "66°\n",
            "Rain Shower☀️\n",
            "Highest and lowest tempurate of the day: --/60°\n",
            "Weather Alert: !! Squall Warning !!\n"
          ],
          "name": "stdout"
        }
      ]
    }
  ]
}